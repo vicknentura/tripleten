{
  "nbformat": 4,
  "nbformat_minor": 0,
  "metadata": {
    "colab": {
      "provenance": [],
      "authorship_tag": "ABX9TyOx8isadIyLsjjTMYpWQgOf",
      "include_colab_link": true
    },
    "kernelspec": {
      "name": "python3",
      "display_name": "Python 3"
    },
    "language_info": {
      "name": "python"
    }
  },
  "cells": [
    {
      "cell_type": "markdown",
      "metadata": {
        "id": "view-in-github",
        "colab_type": "text"
      },
      "source": [
        "<a href=\"https://colab.research.google.com/github/vicknentura/tripleten/blob/main/MercedesGLC300Re_entryProgram.ipynb\" target=\"_parent\"><img src=\"https://colab.research.google.com/assets/colab-badge.svg\" alt=\"Open In Colab\"/></a>"
      ]
    },
    {
      "cell_type": "code",
      "source": [
        "import pandas as pd\n",
        "from sklearn.model_selection import train_test_split\n",
        "from sklearn.linear_model import LinearRegression\n",
        "from sklearn.metrics import mean_squared_error, r2_score\n",
        "from sklearn.preprocessing import LabelEncoder, OrdinalEncoder, MinMaxScaler"
      ],
      "metadata": {
        "id": "pdDvLrkBoe-k"
      },
      "execution_count": 13,
      "outputs": []
    },
    {
      "cell_type": "code",
      "execution_count": 14,
      "metadata": {
        "colab": {
          "base_uri": "https://localhost:8080/"
        },
        "id": "OV9HM_81m0Hk",
        "outputId": "57152005-fc44-4851-b934-79c39ae2c281"
      },
      "outputs": [
        {
          "output_type": "stream",
          "name": "stdout",
          "text": [
            "Mean Squared Error: 2603261.782136588\n",
            "R-squared: 0.3836022197768658\n",
            "Intercept: 26946.309944781802\n",
            "Mileage Coefficient: -0.05906245929924383\n",
            "Age Coefficient: -903.8146239492039\n"
          ]
        }
      ],
      "source": [
        "data=pd.read_excel(\"Revised Budget.xlsx\", sheet_name=\"Sheet6\")\n",
        "\n",
        "current_year = 2024\n",
        "data['Age'] = current_year - data['Year']\n",
        "\n",
        "# Invert 'Previous Owners' to reflect negative impact\n",
        "max_owners = data['Previous Owners'].max()\n",
        "data['Inverted Owners'] = max_owners - data['Previous Owners']\n",
        "\n",
        "# Ordinal encoding for 'Damage History'\n",
        "damage_categories = ['No', 'Minor', 'Yes', 'Major']  # Define order\n",
        "ordinal_encoder = OrdinalEncoder(categories=[damage_categories])\n",
        "data['Damage History Encoded'] = ordinal_encoder.fit_transform(data[['Damage History']])\n",
        "\n",
        "# Use the new features in the model\n",
        "X = data[['Mileage', 'Age', 'Inverted Owners', 'Damage History Encoded']]\n",
        "y = data['Price']\n",
        "\n",
        "X_train, X_test, y_train, y_test = train_test_split(X, y, test_size=0.2, random_state=42)\n",
        "\n",
        "model = LinearRegression()\n",
        "model.fit(X_train, y_train)\n",
        "\n",
        "y_pred = model.predict(X_test)\n",
        "\n",
        "mse = mean_squared_error(y_test, y_pred)\n",
        "r2 = r2_score(y_test, y_pred)\n",
        "\n",
        "print(f\"Mean Squared Error: {mse}\")\n",
        "print(f\"R-squared: {r2}\")\n",
        "\n",
        "print(f\"Intercept: {model.intercept_}\")\n",
        "print(f\"Mileage Coefficient: {model.coef_[0]}\")\n",
        "print(f\"Age Coefficient: {model.coef_[1]}\")"
      ]
    },
    {
      "cell_type": "code",
      "source": [
        "# 1. Normalize relevant columns\n",
        "scaler = MinMaxScaler()\n",
        "data[['Year_Scaled', 'Mileage_Scaled', 'Price_Scaled', 'Owners_Scaled']] = scaler.fit_transform(\n",
        "    data[['Year', 'Mileage', 'Price', 'Previous Owners']]\n",
        ")\n",
        "\n",
        "# 2. Map 'Damage History' to numerical values\n",
        "damage_mapping = {'No': 0, 'Minor': 1, 'Yes': 2, 'Major': 3}\n",
        "data['Damage_Numeric'] = data['Damage History'].map(damage_mapping)\n",
        "\n",
        "# 3. Assign weights (adjust as needed)\n",
        "year_weight = 0.3\n",
        "mileage_weight = 0.2\n",
        "price_weight = 0.2\n",
        "owners_weight = 0.2\n",
        "damage_weight = 0.1\n",
        "\n",
        "# 4. Calculate composite score\n",
        "data['Composite_Score'] = (\n",
        "    data['Year_Scaled'] * year_weight\n",
        "    + (1 - data['Mileage_Scaled']) * mileage_weight  # Invert mileage for lower is better\n",
        "    + (1 - data['Price_Scaled']) * price_weight  # Invert price for lower is better\n",
        "    + (1 - data['Owners_Scaled']) * owners_weight  # Invert owners for lower is better\n",
        "    + (1 - data['Damage_Numeric'] / 3) * damage_weight  # Normalize and invert damage for lower is better\n",
        ")\n",
        "\n",
        "# 5. Find the row with the highest score\n",
        "best_score_index = data['Composite_Score'].idxmax()\n",
        "best_score_row = data.loc[best_score_index]\n",
        "\n",
        "print(\"\\nRow with the best score:\")\n",
        "print(best_score_row)"
      ],
      "metadata": {
        "colab": {
          "base_uri": "https://localhost:8080/"
        },
        "id": "V-rYoeFKoan-",
        "outputId": "ebbd16d7-4148-40ad-866f-54964177f219"
      },
      "execution_count": 15,
      "outputs": [
        {
          "output_type": "stream",
          "name": "stdout",
          "text": [
            "\n",
            "Row with the best score:\n",
            "Year                          2020\n",
            "Mileage                      93250\n",
            "Price                        18000\n",
            "Previous Owners                  1\n",
            "Damage History                  No\n",
            "Age                              4\n",
            "Inverted Owners                  3\n",
            "Damage History Encoded         0.0\n",
            "Year_Scaled               0.666667\n",
            "Mileage_Scaled            0.527143\n",
            "Price_Scaled              0.733333\n",
            "Owners_Scaled                  0.0\n",
            "Damage_Numeric                   0\n",
            "Composite_Score           0.647905\n",
            "Name: 12, dtype: object\n"
          ]
        }
      ]
    },
    {
      "cell_type": "code",
      "source": [
        "top_five = data.sort_values(by=['Composite_Score'], ascending=False).head(5)\n",
        "\n",
        "print(\"\\nTop five ranking:\")\n",
        "print(top_five)"
      ],
      "metadata": {
        "colab": {
          "base_uri": "https://localhost:8080/"
        },
        "id": "yxDmTEulpLsS",
        "outputId": "0e0a4bfc-c503-4ae3-da0e-229b840d8d60"
      },
      "execution_count": 16,
      "outputs": [
        {
          "output_type": "stream",
          "name": "stdout",
          "text": [
            "\n",
            "Top five ranking:\n",
            "    Year  Mileage  Price  Previous Owners Damage History  Age  \\\n",
            "12  2020    93250  18000                1             No    4   \n",
            "13  2019   102000  12800                2          Minor    5   \n",
            "18  2019    68400  19000                1             No    5   \n",
            "28  2019    59000  19900                1             No    5   \n",
            "36  2019   107110  16500                1             No    5   \n",
            "\n",
            "    Inverted Owners  Damage History Encoded  Year_Scaled  Mileage_Scaled  \\\n",
            "12                3                     0.0     0.666667        0.527143   \n",
            "13                2                     1.0     0.500000        0.610476   \n",
            "18                3                     0.0     0.500000        0.290476   \n",
            "28                3                     0.0     0.500000        0.200952   \n",
            "36                3                     0.0     0.500000        0.659143   \n",
            "\n",
            "    Price_Scaled  Owners_Scaled  Damage_Numeric  Composite_Score  \n",
            "12      0.733333       0.000000               0         0.647905  \n",
            "13      0.040000       0.333333               1         0.619905  \n",
            "18      0.866667       0.000000               0         0.618571  \n",
            "28      0.986667       0.000000               0         0.612476  \n",
            "36      0.533333       0.000000               0         0.611505  \n"
          ]
        }
      ]
    },
    {
      "cell_type": "code",
      "source": [
        "# 1. Normalize relevant columns\n",
        "scaler = MinMaxScaler()\n",
        "data[['Year_Scaled', 'Mileage_Scaled', 'Price_Scaled', 'Owners_Scaled']] = scaler.fit_transform(\n",
        "    data[['Year', 'Mileage', 'Price', 'Previous Owners']]\n",
        ")\n",
        "\n",
        "# 2. Map 'Damage History' to numerical values\n",
        "damage_mapping = {'No': 0, 'Minor': 1, 'Yes': 2, 'Major': 3}\n",
        "data['Damage_Numeric'] = data['Damage History'].map(damage_mapping)\n",
        "\n",
        "# 3. Assign weights (adjust as needed)\n",
        "year_weight = 0.3\n",
        "mileage_weight = 0.2\n",
        "price_weight = 0.2\n",
        "owners_weight = 0.2\n",
        "damage_weight = 0.1\n",
        "\n",
        "# 4. Calculate composite score\n",
        "data['Composite_Score'] = (\n",
        "    data['Year_Scaled'] * year_weight\n",
        "    + (1 - data['Mileage_Scaled']) * mileage_weight  # Invert mileage for lower is better\n",
        "    + (1 - data['Price_Scaled']) * price_weight  # Invert price for lower is better\n",
        "    + (1 - data['Owners_Scaled']) * owners_weight  # Invert owners for lower is better\n",
        "    + (1 - data['Damage_Numeric'] / 3) * damage_weight  # Normalize and invert damage for lower is better\n",
        ")\n",
        "\n",
        "# 5. Find the row with the highest score\n",
        "best_score_index = data['Composite_Score'].idxmax()\n",
        "best_score_row = data.loc[best_score_index]\n",
        "\n",
        "print(\"\\nRow with the best score:\")\n",
        "print(best_score_row)\n",
        "\n",
        "# 6. Get the top five rows based on Composite Score\n",
        "top_five = data.sort_values(by=['Composite_Score'], ascending=False).head(5)\n",
        "\n",
        "print(\"\\nTop five ranking:\")\n",
        "print(top_five)"
      ],
      "metadata": {
        "colab": {
          "base_uri": "https://localhost:8080/"
        },
        "id": "r-dFDC8CqR69",
        "outputId": "a01bd42d-cc35-479b-b0bb-6b639555dc36"
      },
      "execution_count": 17,
      "outputs": [
        {
          "output_type": "stream",
          "name": "stdout",
          "text": [
            "\n",
            "Row with the best score:\n",
            "Year                          2020\n",
            "Mileage                      93250\n",
            "Price                        18000\n",
            "Previous Owners                  1\n",
            "Damage History                  No\n",
            "Age                              4\n",
            "Inverted Owners                  3\n",
            "Damage History Encoded         0.0\n",
            "Year_Scaled               0.666667\n",
            "Mileage_Scaled            0.527143\n",
            "Price_Scaled              0.733333\n",
            "Owners_Scaled                  0.0\n",
            "Damage_Numeric                   0\n",
            "Composite_Score           0.647905\n",
            "Name: 12, dtype: object\n",
            "\n",
            "Top five ranking:\n",
            "    Year  Mileage  Price  Previous Owners Damage History  Age  \\\n",
            "12  2020    93250  18000                1             No    4   \n",
            "13  2019   102000  12800                2          Minor    5   \n",
            "18  2019    68400  19000                1             No    5   \n",
            "28  2019    59000  19900                1             No    5   \n",
            "36  2019   107110  16500                1             No    5   \n",
            "\n",
            "    Inverted Owners  Damage History Encoded  Year_Scaled  Mileage_Scaled  \\\n",
            "12                3                     0.0     0.666667        0.527143   \n",
            "13                2                     1.0     0.500000        0.610476   \n",
            "18                3                     0.0     0.500000        0.290476   \n",
            "28                3                     0.0     0.500000        0.200952   \n",
            "36                3                     0.0     0.500000        0.659143   \n",
            "\n",
            "    Price_Scaled  Owners_Scaled  Damage_Numeric  Composite_Score  \n",
            "12      0.733333       0.000000               0         0.647905  \n",
            "13      0.040000       0.333333               1         0.619905  \n",
            "18      0.866667       0.000000               0         0.618571  \n",
            "28      0.986667       0.000000               0         0.612476  \n",
            "36      0.533333       0.000000               0         0.611505  \n"
          ]
        }
      ]
    }
  ]
}